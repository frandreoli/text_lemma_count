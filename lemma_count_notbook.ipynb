{
 "cells": [
  {
   "cell_type": "markdown",
   "metadata": {},
   "source": [
    "# Text analysis: word split, count and lemmatization"
   ]
  },
  {
   "cell_type": "markdown",
   "metadata": {},
   "source": [
    "## Text functions"
   ]
  },
  {
   "cell_type": "code",
   "execution_count": null,
   "metadata": {},
   "outputs": [],
   "source": [
    "#Need: re, simplemma, pandas\n",
    "import importlib\n",
    "\n",
    "if \"txt_mod\" in globals():\n",
    "    importlib.reload(txt_mod)\n",
    "else:\n",
    "    import text_local_module as txt_mod\n"
   ]
  },
  {
   "cell_type": "markdown",
   "metadata": {},
   "source": [
    "## PDF functions"
   ]
  },
  {
   "cell_type": "code",
   "execution_count": null,
   "metadata": {},
   "outputs": [],
   "source": [
    "#Need: pypdf\n",
    "if \"pdf_mod\" in globals():\n",
    "    importlib.reload(pdf_mod)\n",
    "else:\n",
    "    import pdf_local_module as pdf_mod\n"
   ]
  },
  {
   "cell_type": "markdown",
   "metadata": {},
   "source": [
    "## Use cases"
   ]
  },
  {
   "cell_type": "markdown",
   "metadata": {},
   "source": [
    "### 1) Analyzing a text string"
   ]
  },
  {
   "cell_type": "markdown",
   "metadata": {},
   "source": [
    "#### 1.1) Creating the text object"
   ]
  },
  {
   "cell_type": "code",
   "execution_count": 5,
   "metadata": {},
   "outputs": [
    {
     "name": "stdout",
     "output_type": "stream",
     "text": [
      "I need the RegEx library. I'm executing 'import re'.\n"
     ]
    }
   ],
   "source": [
    "input_text = \"Io mi  andare andai  molto     prova  chiamo.Mamma ciao bello bello \\n,. /tanto bello mi ciao!!! So happy,vado all'ippodromo!,ddd \\n\\n\\n\\nmi\"            \n",
    "input_language = \"it\"\n",
    "verbose_option = (True,False)[0]\n",
    "text_object = txt_mod.text_analyzer(input_text, input_language, verbose_option)\n"
   ]
  },
  {
   "cell_type": "markdown",
   "metadata": {},
   "source": [
    "#### 1.2) Counting the words"
   ]
  },
  {
   "cell_type": "code",
   "execution_count": 6,
   "metadata": {},
   "outputs": [
    {
     "name": "stdout",
     "output_type": "stream",
     "text": [
      "I need pandas. I'm executing 'import pandas'.\n",
      "Please wait: I am processing the text.\n",
      "Please wait: I am splitting the words.\n",
      "Please wait: I am counting the words.\n",
      "\n",
      "A dictionary with all counted words is given by:\n",
      " {'prova': 1, 'tanto': 1, 'ddd': 1, 'chiamo': 1, 'mamma': 1, 'bello': 3, 'io': 1, 'molto': 1, 'so': 1, 'happy': 1, 'andare': 1, 'ciao': 2, 'andai': 1, 'mi': 3, 'vado': 1, 'all': 1, 'ippodromo': 1}\n",
      "\n",
      "The word 'andai' occurs 1 times.\n",
      "The word 'test' occurs 0 times.\n"
     ]
    }
   ],
   "source": [
    "print(\"\\nA dictionary with all counted words is given by:\\n\", text_object.word_count(dict=True))\n",
    "print()\n",
    "text_object.word_count_print(\"andai\")\n",
    "text_object.word_count_print(\"test\")\n"
   ]
  },
  {
   "cell_type": "markdown",
   "metadata": {},
   "source": [
    "#### 1.2) Displaying the counted words as a dataframe"
   ]
  },
  {
   "cell_type": "code",
   "execution_count": 7,
   "metadata": {},
   "outputs": [
    {
     "data": {
      "text/html": [
       "<div>\n",
       "<style scoped>\n",
       "    .dataframe tbody tr th:only-of-type {\n",
       "        vertical-align: middle;\n",
       "    }\n",
       "\n",
       "    .dataframe tbody tr th {\n",
       "        vertical-align: top;\n",
       "    }\n",
       "\n",
       "    .dataframe thead th {\n",
       "        text-align: right;\n",
       "    }\n",
       "</style>\n",
       "<table border=\"1\" class=\"dataframe\">\n",
       "  <thead>\n",
       "    <tr style=\"text-align: right;\">\n",
       "      <th></th>\n",
       "      <th>0</th>\n",
       "      <th>1</th>\n",
       "      <th>2</th>\n",
       "      <th>3</th>\n",
       "      <th>4</th>\n",
       "      <th>5</th>\n",
       "      <th>6</th>\n",
       "      <th>7</th>\n",
       "      <th>8</th>\n",
       "      <th>9</th>\n",
       "      <th>10</th>\n",
       "      <th>11</th>\n",
       "      <th>12</th>\n",
       "      <th>13</th>\n",
       "      <th>14</th>\n",
       "      <th>15</th>\n",
       "      <th>16</th>\n",
       "    </tr>\n",
       "  </thead>\n",
       "  <tbody>\n",
       "    <tr>\n",
       "      <th>Raw</th>\n",
       "      <td>prova</td>\n",
       "      <td>tanto</td>\n",
       "      <td>ddd</td>\n",
       "      <td>chiamo</td>\n",
       "      <td>mamma</td>\n",
       "      <td>bello</td>\n",
       "      <td>io</td>\n",
       "      <td>molto</td>\n",
       "      <td>so</td>\n",
       "      <td>happy</td>\n",
       "      <td>andare</td>\n",
       "      <td>ciao</td>\n",
       "      <td>andai</td>\n",
       "      <td>mi</td>\n",
       "      <td>vado</td>\n",
       "      <td>all</td>\n",
       "      <td>ippodromo</td>\n",
       "    </tr>\n",
       "    <tr>\n",
       "      <th>Raw Count</th>\n",
       "      <td>1</td>\n",
       "      <td>1</td>\n",
       "      <td>1</td>\n",
       "      <td>1</td>\n",
       "      <td>1</td>\n",
       "      <td>3</td>\n",
       "      <td>1</td>\n",
       "      <td>1</td>\n",
       "      <td>1</td>\n",
       "      <td>1</td>\n",
       "      <td>1</td>\n",
       "      <td>2</td>\n",
       "      <td>1</td>\n",
       "      <td>3</td>\n",
       "      <td>1</td>\n",
       "      <td>1</td>\n",
       "      <td>1</td>\n",
       "    </tr>\n",
       "  </tbody>\n",
       "</table>\n",
       "</div>"
      ],
      "text/plain": [
       "              0      1    2       3      4      5   6      7   8      9   \\\n",
       "Raw        prova  tanto  ddd  chiamo  mamma  bello  io  molto  so  happy   \n",
       "Raw Count      1      1    1       1      1      3   1      1   1      1   \n",
       "\n",
       "               10    11     12  13    14   15         16  \n",
       "Raw        andare  ciao  andai  mi  vado  all  ippodromo  \n",
       "Raw Count       1     2      1   3     1    1          1  "
      ]
     },
     "execution_count": 7,
     "metadata": {},
     "output_type": "execute_result"
    }
   ],
   "source": [
    "text_object.word_count().transpose()"
   ]
  },
  {
   "cell_type": "markdown",
   "metadata": {},
   "source": [
    "#### 1.3) Lemmatizing the words"
   ]
  },
  {
   "cell_type": "code",
   "execution_count": 8,
   "metadata": {},
   "outputs": [
    {
     "name": "stdout",
     "output_type": "stream",
     "text": [
      "I need a lemmatization library. I'm executing 'import simplemma'.\n",
      "Please wait: I am lemmatizing the text.\n"
     ]
    },
    {
     "data": {
      "text/html": [
       "<div>\n",
       "<style scoped>\n",
       "    .dataframe tbody tr th:only-of-type {\n",
       "        vertical-align: middle;\n",
       "    }\n",
       "\n",
       "    .dataframe tbody tr th {\n",
       "        vertical-align: top;\n",
       "    }\n",
       "\n",
       "    .dataframe thead th {\n",
       "        text-align: right;\n",
       "    }\n",
       "</style>\n",
       "<table border=\"1\" class=\"dataframe\">\n",
       "  <thead>\n",
       "    <tr style=\"text-align: right;\">\n",
       "      <th></th>\n",
       "      <th>0</th>\n",
       "      <th>1</th>\n",
       "      <th>2</th>\n",
       "      <th>3</th>\n",
       "      <th>4</th>\n",
       "      <th>5</th>\n",
       "      <th>6</th>\n",
       "      <th>7</th>\n",
       "      <th>8</th>\n",
       "      <th>9</th>\n",
       "      <th>10</th>\n",
       "      <th>11</th>\n",
       "      <th>12</th>\n",
       "      <th>13</th>\n",
       "      <th>14</th>\n",
       "      <th>15</th>\n",
       "      <th>16</th>\n",
       "    </tr>\n",
       "  </thead>\n",
       "  <tbody>\n",
       "    <tr>\n",
       "      <th>Raw</th>\n",
       "      <td>prova</td>\n",
       "      <td>tanto</td>\n",
       "      <td>ddd</td>\n",
       "      <td>chiamo</td>\n",
       "      <td>mamma</td>\n",
       "      <td>bello</td>\n",
       "      <td>io</td>\n",
       "      <td>molto</td>\n",
       "      <td>so</td>\n",
       "      <td>happy</td>\n",
       "      <td>andare</td>\n",
       "      <td>ciao</td>\n",
       "      <td>andai</td>\n",
       "      <td>mi</td>\n",
       "      <td>vado</td>\n",
       "      <td>al</td>\n",
       "      <td>ippodromo</td>\n",
       "    </tr>\n",
       "    <tr>\n",
       "      <th>Lemma</th>\n",
       "      <td>prova</td>\n",
       "      <td>tangere</td>\n",
       "      <td>ddd</td>\n",
       "      <td>chiamare</td>\n",
       "      <td>mamma</td>\n",
       "      <td>bello</td>\n",
       "      <td>io</td>\n",
       "      <td>molto</td>\n",
       "      <td>sapere</td>\n",
       "      <td>happy</td>\n",
       "      <td>andare</td>\n",
       "      <td>ciao</td>\n",
       "      <td>andare</td>\n",
       "      <td>mi</td>\n",
       "      <td>andare</td>\n",
       "      <td>al</td>\n",
       "      <td>ippodromo</td>\n",
       "    </tr>\n",
       "    <tr>\n",
       "      <th>Raw Count</th>\n",
       "      <td>1</td>\n",
       "      <td>1</td>\n",
       "      <td>1</td>\n",
       "      <td>1</td>\n",
       "      <td>1</td>\n",
       "      <td>3</td>\n",
       "      <td>1</td>\n",
       "      <td>1</td>\n",
       "      <td>1</td>\n",
       "      <td>1</td>\n",
       "      <td>1</td>\n",
       "      <td>2</td>\n",
       "      <td>1</td>\n",
       "      <td>3</td>\n",
       "      <td>1</td>\n",
       "      <td>1</td>\n",
       "      <td>1</td>\n",
       "    </tr>\n",
       "  </tbody>\n",
       "</table>\n",
       "</div>"
      ],
      "text/plain": [
       "              0        1    2         3      4      5   6      7       8   \\\n",
       "Raw        prova    tanto  ddd    chiamo  mamma  bello  io  molto      so   \n",
       "Lemma      prova  tangere  ddd  chiamare  mamma  bello  io  molto  sapere   \n",
       "Raw Count      1        1    1         1      1      3   1      1       1   \n",
       "\n",
       "              9       10    11      12  13      14  15         16  \n",
       "Raw        happy  andare  ciao   andai  mi    vado  al  ippodromo  \n",
       "Lemma      happy  andare  ciao  andare  mi  andare  al  ippodromo  \n",
       "Raw Count      1       1     2       1   3       1   1          1  "
      ]
     },
     "metadata": {},
     "output_type": "display_data"
    }
   ],
   "source": [
    "display(text_object.lemmatize().transpose())"
   ]
  },
  {
   "cell_type": "markdown",
   "metadata": {},
   "source": [
    "#### 1.4) Counting the lemmas"
   ]
  },
  {
   "cell_type": "code",
   "execution_count": 9,
   "metadata": {},
   "outputs": [
    {
     "name": "stdout",
     "output_type": "stream",
     "text": [
      "Please wait: I am counting the lemmas.\n"
     ]
    },
    {
     "data": {
      "text/html": [
       "<div>\n",
       "<style scoped>\n",
       "    .dataframe tbody tr th:only-of-type {\n",
       "        vertical-align: middle;\n",
       "    }\n",
       "\n",
       "    .dataframe tbody tr th {\n",
       "        vertical-align: top;\n",
       "    }\n",
       "\n",
       "    .dataframe thead th {\n",
       "        text-align: right;\n",
       "    }\n",
       "</style>\n",
       "<table border=\"1\" class=\"dataframe\">\n",
       "  <thead>\n",
       "    <tr style=\"text-align: right;\">\n",
       "      <th></th>\n",
       "      <th>0</th>\n",
       "      <th>1</th>\n",
       "      <th>2</th>\n",
       "      <th>3</th>\n",
       "      <th>4</th>\n",
       "      <th>5</th>\n",
       "      <th>6</th>\n",
       "      <th>7</th>\n",
       "      <th>8</th>\n",
       "      <th>9</th>\n",
       "      <th>10</th>\n",
       "      <th>11</th>\n",
       "      <th>12</th>\n",
       "      <th>13</th>\n",
       "      <th>14</th>\n",
       "    </tr>\n",
       "  </thead>\n",
       "  <tbody>\n",
       "    <tr>\n",
       "      <th>Lemma</th>\n",
       "      <td>al</td>\n",
       "      <td>andare</td>\n",
       "      <td>bello</td>\n",
       "      <td>chiamare</td>\n",
       "      <td>ciao</td>\n",
       "      <td>ddd</td>\n",
       "      <td>happy</td>\n",
       "      <td>io</td>\n",
       "      <td>ippodromo</td>\n",
       "      <td>mamma</td>\n",
       "      <td>mi</td>\n",
       "      <td>molto</td>\n",
       "      <td>prova</td>\n",
       "      <td>sapere</td>\n",
       "      <td>tangere</td>\n",
       "    </tr>\n",
       "    <tr>\n",
       "      <th>Lemma Count</th>\n",
       "      <td>1</td>\n",
       "      <td>3</td>\n",
       "      <td>3</td>\n",
       "      <td>1</td>\n",
       "      <td>2</td>\n",
       "      <td>1</td>\n",
       "      <td>1</td>\n",
       "      <td>1</td>\n",
       "      <td>1</td>\n",
       "      <td>1</td>\n",
       "      <td>3</td>\n",
       "      <td>1</td>\n",
       "      <td>1</td>\n",
       "      <td>1</td>\n",
       "      <td>1</td>\n",
       "    </tr>\n",
       "    <tr>\n",
       "      <th>Occurrence</th>\n",
       "      <td>[al]</td>\n",
       "      <td>[andare, andai, vado]</td>\n",
       "      <td>[bello]</td>\n",
       "      <td>[chiamo]</td>\n",
       "      <td>[ciao]</td>\n",
       "      <td>[ddd]</td>\n",
       "      <td>[happy]</td>\n",
       "      <td>[io]</td>\n",
       "      <td>[ippodromo]</td>\n",
       "      <td>[mamma]</td>\n",
       "      <td>[mi]</td>\n",
       "      <td>[molto]</td>\n",
       "      <td>[prova]</td>\n",
       "      <td>[so]</td>\n",
       "      <td>[tanto]</td>\n",
       "    </tr>\n",
       "  </tbody>\n",
       "</table>\n",
       "</div>"
      ],
      "text/plain": [
       "               0                      1        2         3       4      5   \\\n",
       "Lemma          al                 andare    bello  chiamare    ciao    ddd   \n",
       "Lemma Count     1                      3        3         1       2      1   \n",
       "Occurrence   [al]  [andare, andai, vado]  [bello]  [chiamo]  [ciao]  [ddd]   \n",
       "\n",
       "                  6     7            8        9     10       11       12  \\\n",
       "Lemma          happy    io    ippodromo    mamma    mi    molto    prova   \n",
       "Lemma Count        1     1            1        1     3        1        1   \n",
       "Occurrence   [happy]  [io]  [ippodromo]  [mamma]  [mi]  [molto]  [prova]   \n",
       "\n",
       "                 13       14  \n",
       "Lemma        sapere  tangere  \n",
       "Lemma Count       1        1  \n",
       "Occurrence     [so]  [tanto]  "
      ]
     },
     "metadata": {},
     "output_type": "display_data"
    }
   ],
   "source": [
    "display(text_object.lemma_count().transpose())"
   ]
  },
  {
   "cell_type": "markdown",
   "metadata": {},
   "source": [
    "## 2) Analyzing a PDF"
   ]
  },
  {
   "cell_type": "markdown",
   "metadata": {},
   "source": [
    "### 2.1) Creating a test PDF"
   ]
  },
  {
   "cell_type": "code",
   "execution_count": 22,
   "metadata": {},
   "outputs": [
    {
     "name": "stdout",
     "output_type": "stream",
     "text": [
      "I successfully created the PDF 'test.pdf'\n"
     ]
    }
   ],
   "source": [
    "import lorem\n",
    "import textwrap\n",
    "from reportlab.lib.pagesizes import A4\n",
    "from reportlab.pdfgen import canvas\n",
    "\n",
    "dummy_text = lorem.text()\n",
    "file_name = \"test.pdf\"\n",
    "pdf = canvas.Canvas(file_name, pagesize=A4)\n",
    "x_start = 100 \n",
    "y_start = 800  \n",
    "line_width = 60 \n",
    "dummy_text_wrapped = textwrap.wrap(dummy_text, width=line_width)\n",
    "y_position = y_start\n",
    "\n",
    "for line in dummy_text_wrapped:\n",
    "    pdf.drawString(x_start, y_position, line)\n",
    "    y_position -= 15\n",
    "\n",
    "try:\n",
    "    pdf.save()\n",
    "except Exception as exc:\n",
    "    print(\"I could not create the pdf. Error: \", exc)\n",
    "else:\n",
    "    print(f\"I successfully created the PDF '{file_name}'\")"
   ]
  },
  {
   "cell_type": "markdown",
   "metadata": {},
   "source": [
    "### 2.1) Import text from a PDF"
   ]
  },
  {
   "cell_type": "markdown",
   "metadata": {},
   "source": []
  }
 ],
 "metadata": {
  "kernelspec": {
   "display_name": ".venv",
   "language": "python",
   "name": "python3"
  },
  "language_info": {
   "codemirror_mode": {
    "name": "ipython",
    "version": 3
   },
   "file_extension": ".py",
   "mimetype": "text/x-python",
   "name": "python",
   "nbconvert_exporter": "python",
   "pygments_lexer": "ipython3",
   "version": "3.9.17"
  }
 },
 "nbformat": 4,
 "nbformat_minor": 2
}
